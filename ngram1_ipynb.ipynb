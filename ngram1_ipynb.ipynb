{
 "cells": [
  {
   "cell_type": "code",
   "execution_count": 1,
   "metadata": {},
   "outputs": [
    {
     "ename": "ModuleNotFoundError",
     "evalue": "No module named 'spacy'",
     "output_type": "error",
     "traceback": [
      "\u001b[1;31m---------------------------------------------------------------------------\u001b[0m",
      "\u001b[1;31mModuleNotFoundError\u001b[0m                       Traceback (most recent call last)",
      "\u001b[1;32mc:\\Users\\marti\\OneDrive\\Documents\\GitHub\\GSI_reddit\\ngram1_ipynb.ipynb Cell 1\u001b[0m line \u001b[0;36m3\n\u001b[0;32m      <a href='vscode-notebook-cell:/c%3A/Users/marti/OneDrive/Documents/GitHub/GSI_reddit/ngram1_ipynb.ipynb#W1sZmlsZQ%3D%3D?line=0'>1</a>\u001b[0m \u001b[39m#%% \u001b[39;00m\n\u001b[0;32m      <a href='vscode-notebook-cell:/c%3A/Users/marti/OneDrive/Documents/GitHub/GSI_reddit/ngram1_ipynb.ipynb#W1sZmlsZQ%3D%3D?line=1'>2</a>\u001b[0m \u001b[39mimport\u001b[39;00m \u001b[39mpandas\u001b[39;00m \u001b[39mas\u001b[39;00m \u001b[39mpd\u001b[39;00m\n\u001b[1;32m----> <a href='vscode-notebook-cell:/c%3A/Users/marti/OneDrive/Documents/GitHub/GSI_reddit/ngram1_ipynb.ipynb#W1sZmlsZQ%3D%3D?line=2'>3</a>\u001b[0m \u001b[39mimport\u001b[39;00m \u001b[39mspacy\u001b[39;00m\n\u001b[0;32m      <a href='vscode-notebook-cell:/c%3A/Users/marti/OneDrive/Documents/GitHub/GSI_reddit/ngram1_ipynb.ipynb#W1sZmlsZQ%3D%3D?line=3'>4</a>\u001b[0m \u001b[39mfrom\u001b[39;00m \u001b[39mnltk\u001b[39;00m\u001b[39m.\u001b[39;00m\u001b[39msentiment\u001b[39;00m \u001b[39mimport\u001b[39;00m SentimentIntensityAnalyzer\n\u001b[0;32m      <a href='vscode-notebook-cell:/c%3A/Users/marti/OneDrive/Documents/GitHub/GSI_reddit/ngram1_ipynb.ipynb#W1sZmlsZQ%3D%3D?line=4'>5</a>\u001b[0m \u001b[39mimport\u001b[39;00m \u001b[39msqlite3\u001b[39;00m\n",
      "\u001b[1;31mModuleNotFoundError\u001b[0m: No module named 'spacy'"
     ]
    }
   ],
   "source": [
    "#%% \n",
    "import pandas as pd\n",
    "import spacy\n",
    "from nltk.sentiment import SentimentIntensityAnalyzer\n",
    "import sqlite3\n",
    "# from bertopic import BERTopic\n"
   ]
  },
  {
   "cell_type": "code",
   "execution_count": null,
   "metadata": {},
   "outputs": [],
   "source": [
    "#%% \n",
    "import pandas as pd\n",
    "import spacy\n",
    "from nltk.sentiment import SentimentIntensityAnalyzer\n",
    "from nltk.util import ngrams\n",
    "from nltk.corpus import stopwords\n",
    "import nltk\n",
    "\n",
    "# Download stopwords from nltk\n",
    "nltk.download('stopwords')\n",
    "stop_words = set(stopwords.words('english'))\n",
    "\n",
    "# Load the CSV file\n",
    "file_path = 'climatenews_subreddit.csv'  # Replace with your actual file path\n",
    "data = pd.read_csv(file_path)\n",
    "\n",
    "# Initialize VADER sentiment analyzer\n",
    "sia = SentimentIntensityAnalyzer()\n",
    "\n",
    "# Function to calculate VADER sentiment score\n",
    "def get_vader_sentiment(text):\n",
    "    return sia.polarity_scores(text)['compound']\n",
    "\n",
    "# Function to generate and filter n-grams\n",
    "def generate_filtered_ngrams(text, n=2):\n",
    "    words = nltk.word_tokenize(text)\n",
    "    filtered_words = [word for word in words if word.lower() not in stop_words]\n",
    "    generated_ngrams = ngrams(filtered_words, n)\n",
    "    return ', '.join([' '.join(gram) for gram in generated_ngrams])\n",
    "\n",
    "# Create a new DataFrame for the co-occurrence table\n",
    "co_occurrence = pd.DataFrame()\n",
    "\n",
    "# Fill the new DataFrame with the required data\n",
    "co_occurrence['user'] = data['user']\n",
    "co_occurrence['author'] = data['author']\n",
    "co_occurrence['comment'] = data['comment']\n",
    "co_occurrence['title'] = data['title']\n",
    "co_occurrence['post_text'] = data['post_text']\n",
    "co_occurrence['comm_date'] = data['comm_date']\n",
    "co_occurrence['subreddit'] = data['url'].apply(lambda url: url.split('/')[4] if len(url.split('/')) > 4 else 'Unknown')\n",
    "\n",
    "# Adding N-grams and sentiment analysis results\n",
    "co_occurrence['ngrams.title'] = co_occurrence['title'].astype(str).apply(lambda x: generate_filtered_ngrams(x, 2))\n",
    "co_occurrence['ngrams.comment'] = co_occurrence['comment'].astype(str).apply(lambda x: generate_filtered_ngrams(x, 2))\n",
    "co_occurrence['vader.title'] = co_occurrence['title'].astype(str).apply(get_vader_sentiment)\n",
    "co_occurrence['vader.comment'] = co_occurrence['comment'].astype(str).apply(get_vader_sentiment)\n",
    "\n",
    "# Handle missing values if necessary (e.g., with empty strings)\n",
    "co_occurrence.fillna('', inplace=True)\n",
    "\n",
    "# Save the co-occurrence table with additional data to a new CSV file\n",
    "output_file_path = 'enhanced_co_occurrence_table_with_ngrams.csv'  # Replace with your desired output file path\n",
    "co_occurrence.to_csv(output_file_path, index=False)\n",
    "\n",
    "print(\"Enhanced co-occurrence table with N-grams created and saved to:\", output_file_path)\n"
   ]
  }
 ],
 "metadata": {
  "kernelspec": {
   "display_name": "globis_general",
   "language": "python",
   "name": "python3"
  },
  "language_info": {
   "codemirror_mode": {
    "name": "ipython",
    "version": 3
   },
   "file_extension": ".py",
   "mimetype": "text/x-python",
   "name": "python",
   "nbconvert_exporter": "python",
   "pygments_lexer": "ipython3",
   "version": "3.9.16"
  }
 },
 "nbformat": 4,
 "nbformat_minor": 2
}
